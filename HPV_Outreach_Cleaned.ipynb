{
 "cells": [
  {
   "cell_type": "markdown",
   "id": "6f47bb26",
   "metadata": {},
   "source": [
    "# HPV Outreach Impact Analysis\n",
    "This notebook analyzes the impact of community sensitization on cervical cancer screening uptake.\n",
    "It includes:\n",
    "- Projected applicant growth for cancer diagnosis training (2024–2029)\n",
    "- Statistical evaluation using a Chi-Square Test\n",
    "- Visualizations of participation trends\n"
   ]
  },
  {
   "cell_type": "code",
   "execution_count": null,
   "id": "d3c2c98d",
   "metadata": {},
   "outputs": [],
   "source": [
    "# Plotting projected demand for training\n",
    "import matplotlib.pyplot as plt\n",
    "\n",
    "years = [2024, 2025, 2026, 2027, 2028, 2029]\n",
    "applicants = [120, 132, 145, 160, 176, 194]\n",
    "\n",
    "plt.figure(figsize=(10, 6))\n",
    "plt.plot(years, applicants, marker='o', linestyle='-', color='b')\n",
    "plt.title('Predicted Applicant Growth for Cancer Diagnosis Training (2024–2029)')\n",
    "plt.xlabel('Year')\n",
    "plt.ylabel('Number of Applicants')\n",
    "plt.grid(True)\n",
    "plt.show()"
   ]
  },
  {
   "cell_type": "markdown",
   "id": "1232511a",
   "metadata": {},
   "source": [
    "## Chi-Square Test: Impact of Sensitization on Screening Participation"
   ]
  },
  {
   "cell_type": "code",
   "execution_count": null,
   "id": "986f4ed2",
   "metadata": {},
   "outputs": [],
   "source": [
    "from scipy.stats import chi2_contingency\n",
    "import numpy as np\n",
    "\n",
    "# Observed participation before and after outreach\n",
    "# Format: [[non-participants, participants], [non-participants, participants]]\n",
    "observed = [[270, 30],    # Before: 30 screened out of 300\n",
    "            [273, 327]]   # After: 327 screened out of 600\n",
    "\n",
    "# Chi-square test\n",
    "chi2, p, dof, expected = chi2_contingency(observed)\n",
    "\n",
    "print(f\"Chi-square statistic: {chi2:.2f}\")\n",
    "print(f\"p-value: {p:.3e}\")\n",
    "print(f\"Degrees of freedom: {dof}\")\n",
    "print(\"Expected frequencies:\", expected)"
   ]
  }
 ],
 "metadata": {
  "kernelspec": {
   "display_name": "Python 3 (ipykernel)",
   "language": "python",
   "name": "python3"
  },
  "language_info": {
   "codemirror_mode": {
    "name": "ipython",
    "version": 3
   },
   "file_extension": ".py",
   "mimetype": "text/x-python",
   "name": "python",
   "nbconvert_exporter": "python",
   "pygments_lexer": "ipython3",
   "version": "3.9.13"
  }
 },
 "nbformat": 4,
 "nbformat_minor": 5
}